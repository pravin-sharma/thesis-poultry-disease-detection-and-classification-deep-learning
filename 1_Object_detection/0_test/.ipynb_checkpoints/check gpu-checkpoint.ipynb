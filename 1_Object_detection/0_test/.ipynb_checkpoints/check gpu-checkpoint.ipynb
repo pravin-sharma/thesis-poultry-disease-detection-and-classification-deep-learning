{
 "cells": [
  {
   "cell_type": "code",
   "execution_count": 8,
   "id": "6caf78be-ce13-41a4-b9a2-da046d4dd526",
   "metadata": {},
   "outputs": [
    {
     "name": "stdout",
     "output_type": "stream",
     "text": [
      "System: Windows\n",
      "Machine: AMD64\n",
      "Processor: AMD64 Family 25 Model 80 Stepping 0, AuthenticAMD\n",
      "Physical cores: 8\n",
      "Total cores: 16\n",
      "Total memory: 16541605888\n",
      "Total disk space: 510455517184\n",
      "Python Version: 3.9.19\n"
     ]
    }
   ],
   "source": [
    "import psutil\n",
    "import platform\n",
    "\n",
    "# Operating System\n",
    "print(f\"System: {platform.system()}\")\n",
    "print(f\"Machine: {platform.machine()}\")\n",
    "print(f\"Processor: {platform.processor()}\")\n",
    "# CPU information\n",
    "print(f\"Physical cores: {psutil.cpu_count(logical=False)}\")\n",
    "print(f\"Total cores: {psutil.cpu_count(logical=True)}\")\n",
    "# Memory Information\n",
    "svmem = psutil.virtual_memory()\n",
    "print(f\"Total memory: {svmem.total}\")\n",
    "disk_usage = psutil.disk_usage('/')\n",
    "print(f\"Total disk space: {disk_usage.total}\")\n",
    "# Python Version\n",
    "print(f\"Python Version: {platform.python_version()}\")"
   ]
  },
  {
   "cell_type": "code",
   "execution_count": 2,
   "id": "6f86a1bb-9ca5-4ef0-b2f8-0c96888f34f3",
   "metadata": {},
   "outputs": [
    {
     "name": "stdout",
     "output_type": "stream",
     "text": [
      "Num GPUs Available:  1\n"
     ]
    }
   ],
   "source": [
    "import tensorflow as tf\n",
    "\n",
    "print(\"Num GPUs Available: \", len(tf.config.list_physical_devices('GPU')))\n"
   ]
  },
  {
   "cell_type": "code",
   "execution_count": 3,
   "id": "e55567f7-1e0b-4867-a3ae-e77c87872285",
   "metadata": {},
   "outputs": [
    {
     "name": "stdout",
     "output_type": "stream",
     "text": [
      "Fri Jun 14 19:09:01 2024       \n",
      "+-----------------------------------------------------------------------------------------+\n",
      "| NVIDIA-SMI 555.99                 Driver Version: 555.99         CUDA Version: 12.5     |\n",
      "|-----------------------------------------+------------------------+----------------------+\n",
      "| GPU  Name                  Driver-Model | Bus-Id          Disp.A | Volatile Uncorr. ECC |\n",
      "| Fan  Temp   Perf          Pwr:Usage/Cap |           Memory-Usage | GPU-Util  Compute M. |\n",
      "|                                         |                        |               MIG M. |\n",
      "|=========================================+========================+======================|\n",
      "|   0  NVIDIA GeForce RTX 3050 ...  WDDM  |   00000000:01:00.0 Off |                  N/A |\n",
      "| N/A   51C    P0             13W /   50W |       0MiB /   4096MiB |      0%      Default |\n",
      "|                                         |                        |                  N/A |\n",
      "+-----------------------------------------+------------------------+----------------------+\n",
      "                                                                                         \n",
      "+-----------------------------------------------------------------------------------------+\n",
      "| Processes:                                                                              |\n",
      "|  GPU   GI   CI        PID   Type   Process name                              GPU Memory |\n",
      "|        ID   ID                                                               Usage      |\n",
      "|=========================================================================================|\n",
      "|  No running processes found                                                             |\n",
      "+-----------------------------------------------------------------------------------------+\n"
     ]
    }
   ],
   "source": [
    "!nvidia-smi"
   ]
  },
  {
   "cell_type": "code",
   "execution_count": 5,
   "id": "a67c963f-447b-442f-bd55-4f410a67d54d",
   "metadata": {},
   "outputs": [
    {
     "name": "stdout",
     "output_type": "stream",
     "text": [
      "GPUs Available:  [PhysicalDevice(name='/physical_device:GPU:0', device_type='GPU')]\n",
      "Logical GPUs:  [LogicalDevice(name='/device:GPU:0', device_type='GPU')]\n",
      "Result:  tf.Tensor([[32.]], shape=(1, 1), dtype=float32)\n"
     ]
    }
   ],
   "source": [
    "import tensorflow as tf\n",
    "\n",
    "# List all physical devices\n",
    "gpus = tf.config.list_physical_devices('GPU')\n",
    "print(\"GPUs Available: \", gpus)\n",
    "\n",
    "if gpus:\n",
    "\n",
    "    logical_gpus = tf.config.experimental.list_logical_devices('GPU')\n",
    "    print(\"Logical GPUs: \", logical_gpus)\n",
    "\n",
    "    # Running a simple operation to confirm which GPU is being used\n",
    "    with tf.device('/GPU:0'):\n",
    "        a = tf.constant([[1.0, 2.0, 3.0]])\n",
    "        b = tf.constant([[4.0, 5.0, 6.0]])\n",
    "        c = tf.matmul(a, b, transpose_b=True)\n",
    "        print(\"Result: \", c)\n",
    "else:\n",
    "    print(\"No GPU found.\")\n"
   ]
  },
  {
   "cell_type": "code",
   "execution_count": 6,
   "id": "282f641c-c02f-490f-8cce-714bcd6e5d7e",
   "metadata": {},
   "outputs": [
    {
     "name": "stdout",
     "output_type": "stream",
     "text": [
      "GPUs Available:  [PhysicalDevice(name='/physical_device:GPU:0', device_type='GPU')]\n",
      "Logical GPUs:  [LogicalDevice(name='/device:GPU:0', device_type='GPU')]\n",
      "Result:  tf.Tensor([[32.]], shape=(1, 1), dtype=float32)\n"
     ]
    }
   ],
   "source": [
    "import tensorflow as tf\n",
    "\n",
    "# List all physical devices\n",
    "gpus = tf.config.list_physical_devices('GPU')\n",
    "print(\"GPUs Available: \", gpus)\n",
    "\n",
    "if gpus:\n",
    "    # Set memory growth to avoid allocating all memory\n",
    "    for gpu in gpus:\n",
    "        tf.config.experimental.set_memory_growth(gpu, True)\n",
    "\n",
    "    logical_gpus = tf.config.experimental.list_logical_devices('GPU')\n",
    "    print(\"Logical GPUs: \", logical_gpus)\n",
    "\n",
    "    # Running a simple operation to confirm which GPU is being used\n",
    "    with tf.device('/GPU:0'):\n",
    "        a = tf.constant([[1.0, 2.0, 3.0]])\n",
    "        b = tf.constant([[4.0, 5.0, 6.0]])\n",
    "        c = tf.matmul(a, b, transpose_b=True)\n",
    "        print(\"Result: \", c)\n",
    "else:\n",
    "    print(\"No GPU found.\")\n"
   ]
  },
  {
   "cell_type": "code",
   "execution_count": null,
   "id": "5383fb0f-4c8f-4dfc-a053-868942e50779",
   "metadata": {},
   "outputs": [],
   "source": []
  }
 ],
 "metadata": {
  "kernelspec": {
   "display_name": "Python 3 (ipykernel)",
   "language": "python",
   "name": "python3"
  },
  "language_info": {
   "codemirror_mode": {
    "name": "ipython",
    "version": 3
   },
   "file_extension": ".py",
   "mimetype": "text/x-python",
   "name": "python",
   "nbconvert_exporter": "python",
   "pygments_lexer": "ipython3",
   "version": "3.9.19"
  },
  "widgets": {
   "application/vnd.jupyter.widget-state+json": {
    "state": {},
    "version_major": 2,
    "version_minor": 0
   }
  }
 },
 "nbformat": 4,
 "nbformat_minor": 5
}
