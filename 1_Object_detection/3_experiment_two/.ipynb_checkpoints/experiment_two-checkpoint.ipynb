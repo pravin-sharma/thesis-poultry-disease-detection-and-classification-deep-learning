{
 "cells": [
  {
   "cell_type": "code",
   "execution_count": 1,
   "id": "nTim5a7ppbRv",
   "metadata": {
    "colab": {
     "base_uri": "https://localhost:8080/"
    },
    "executionInfo": {
     "elapsed": 269,
     "status": "ok",
     "timestamp": 1718811669791,
     "user": {
      "displayName": "Pravin Sharma",
      "userId": "04208220927024605300"
     },
     "user_tz": -60
    },
    "id": "nTim5a7ppbRv",
    "outputId": "b2038094-230a-4e0f-bbc4-cb2df7a71d98"
   },
   "outputs": [
    {
     "name": "stdout",
     "output_type": "stream",
     "text": [
      "Python 3.9.19\n"
     ]
    }
   ],
   "source": [
    "!python --version"
   ]
  },
  {
   "cell_type": "code",
   "execution_count": 2,
   "id": "ynGGHMQPp9oo",
   "metadata": {
    "colab": {
     "base_uri": "https://localhost:8080/"
    },
    "executionInfo": {
     "elapsed": 1538,
     "status": "ok",
     "timestamp": 1718811672519,
     "user": {
      "displayName": "Pravin Sharma",
      "userId": "04208220927024605300"
     },
     "user_tz": -60
    },
    "id": "ynGGHMQPp9oo",
    "outputId": "87261b7e-ce42-4ee2-8598-bf57bdbbdbed"
   },
   "outputs": [
    {
     "name": "stderr",
     "output_type": "stream",
     "text": [
      "Cloning into 'yolov10'...\n"
     ]
    }
   ],
   "source": [
    "!git clone https://github.com/THU-MIG/yolov10.git"
   ]
  },
  {
   "cell_type": "code",
   "execution_count": 3,
   "id": "n2VXPAVkjUW0",
   "metadata": {
    "colab": {
     "base_uri": "https://localhost:8080/"
    },
    "executionInfo": {
     "elapsed": 136440,
     "status": "ok",
     "timestamp": 1718811819375,
     "user": {
      "displayName": "Pravin Sharma",
      "userId": "04208220927024605300"
     },
     "user_tz": -60
    },
    "id": "n2VXPAVkjUW0",
    "outputId": "a1fd1210-f0ec-43f9-8075-62c09b02294d"
   },
   "outputs": [
    {
     "name": "stdout",
     "output_type": "stream",
     "text": [
      "Mounted at /content/drive\n"
     ]
    }
   ],
   "source": [
    "# # # Google Colab Specific commands\n",
    "# from google.colab import drive\n",
    "# drive.mount('/content/drive')\n",
    "# # # # Example: Unzip into the current working directory - since i have a zip in my drive and i want to unzip into my colab env for faster access\n",
    "# !unzip -q \"/content/drive/MyDrive/Colab Notebooks/Pravin's Thesis/datasets.zip\" -d '/content/yolov10/datasets/'"
   ]
  },
  {
   "cell_type": "code",
   "execution_count": 1,
   "id": "4e6RKEmvqFhO",
   "metadata": {
    "colab": {
     "base_uri": "https://localhost:8080/"
    },
    "executionInfo": {
     "elapsed": 355,
     "status": "ok",
     "timestamp": 1718811882140,
     "user": {
      "displayName": "Pravin Sharma",
      "userId": "04208220927024605300"
     },
     "user_tz": -60
    },
    "id": "4e6RKEmvqFhO",
    "outputId": "e8582672-cda3-4bf5-b3ba-1ba27e8d935a"
   },
   "outputs": [
    {
     "name": "stdout",
     "output_type": "stream",
     "text": [
      "C:\\Users\\pravi\\OneDrive\\Desktop\\Pravin\\Study\\Masters\\Research Project\\code\\3_experiment_two\\yolov10\n"
     ]
    },
    {
     "name": "stderr",
     "output_type": "stream",
     "text": [
      "C:\\ProgramData\\anaconda3\\envs\\py39\\lib\\site-packages\\IPython\\core\\magics\\osm.py:417: UserWarning: using dhist requires you to install the `pickleshare` library.\n",
      "  self.shell.db['dhist'] = compress_dhist(dhist)[-100:]\n"
     ]
    }
   ],
   "source": [
    "cd yolov10"
   ]
  },
  {
   "cell_type": "code",
   "execution_count": 4,
   "id": "DXRfZWDHqJqJ",
   "metadata": {
    "colab": {
     "base_uri": "https://localhost:8080/"
    },
    "executionInfo": {
     "elapsed": 66624,
     "status": "ok",
     "timestamp": 1718811949932,
     "user": {
      "displayName": "Pravin Sharma",
      "userId": "04208220927024605300"
     },
     "user_tz": -60
    },
    "id": "DXRfZWDHqJqJ",
    "outputId": "d0470b87-fdb4-4221-c8a2-3fd09160180d",
    "scrolled": true
   },
   "outputs": [
    {
     "name": "stdout",
     "output_type": "stream",
     "text": [
      "Processing c:\\users\\pravi\\onedrive\\desktop\\pravin\\study\\masters\\research project\\code\\experiment_1\\yolov10\n",
      "  Installing build dependencies: started\n",
      "  Installing build dependencies: finished with status 'done'\n",
      "  Getting requirements to build wheel: started\n",
      "  Getting requirements to build wheel: finished with status 'done'\n",
      "  Preparing metadata (pyproject.toml): started\n",
      "  Preparing metadata (pyproject.toml): finished with status 'done'\n",
      "Requirement already satisfied: matplotlib>=3.3.0 in c:\\programdata\\anaconda3\\envs\\py39\\lib\\site-packages (from ultralytics==8.1.34) (3.9.0)\n",
      "Requirement already satisfied: opencv-python>=4.6.0 in c:\\programdata\\anaconda3\\envs\\py39\\lib\\site-packages (from ultralytics==8.1.34) (4.10.0.84)\n",
      "Requirement already satisfied: pillow>=7.1.2 in c:\\programdata\\anaconda3\\envs\\py39\\lib\\site-packages (from ultralytics==8.1.34) (10.3.0)\n",
      "Requirement already satisfied: pyyaml>=5.3.1 in c:\\programdata\\anaconda3\\envs\\py39\\lib\\site-packages (from ultralytics==8.1.34) (6.0.1)\n",
      "Requirement already satisfied: requests>=2.23.0 in c:\\programdata\\anaconda3\\envs\\py39\\lib\\site-packages (from ultralytics==8.1.34) (2.32.3)\n",
      "Requirement already satisfied: scipy>=1.4.1 in c:\\programdata\\anaconda3\\envs\\py39\\lib\\site-packages (from ultralytics==8.1.34) (1.13.1)\n",
      "Requirement already satisfied: torch>=1.8.0 in c:\\programdata\\anaconda3\\envs\\py39\\lib\\site-packages (from ultralytics==8.1.34) (2.3.1)\n",
      "Requirement already satisfied: torchvision>=0.9.0 in c:\\programdata\\anaconda3\\envs\\py39\\lib\\site-packages (from ultralytics==8.1.34) (0.18.1)\n",
      "Requirement already satisfied: tqdm>=4.64.0 in c:\\programdata\\anaconda3\\envs\\py39\\lib\\site-packages (from ultralytics==8.1.34) (4.66.4)\n",
      "Requirement already satisfied: psutil in c:\\programdata\\anaconda3\\envs\\py39\\lib\\site-packages (from ultralytics==8.1.34) (5.9.8)\n",
      "Requirement already satisfied: py-cpuinfo in c:\\programdata\\anaconda3\\envs\\py39\\lib\\site-packages (from ultralytics==8.1.34) (9.0.0)\n",
      "Requirement already satisfied: thop>=0.1.1 in c:\\programdata\\anaconda3\\envs\\py39\\lib\\site-packages (from ultralytics==8.1.34) (0.1.1.post2209072238)\n",
      "Requirement already satisfied: pandas>=1.1.4 in c:\\programdata\\anaconda3\\envs\\py39\\lib\\site-packages (from ultralytics==8.1.34) (2.2.2)\n",
      "Requirement already satisfied: seaborn>=0.11.0 in c:\\programdata\\anaconda3\\envs\\py39\\lib\\site-packages (from ultralytics==8.1.34) (0.13.2)\n",
      "Requirement already satisfied: contourpy>=1.0.1 in c:\\programdata\\anaconda3\\envs\\py39\\lib\\site-packages (from matplotlib>=3.3.0->ultralytics==8.1.34) (1.2.1)\n",
      "Requirement already satisfied: cycler>=0.10 in c:\\programdata\\anaconda3\\envs\\py39\\lib\\site-packages (from matplotlib>=3.3.0->ultralytics==8.1.34) (0.10.0)\n",
      "Requirement already satisfied: fonttools>=4.22.0 in c:\\programdata\\anaconda3\\envs\\py39\\lib\\site-packages (from matplotlib>=3.3.0->ultralytics==8.1.34) (4.53.0)\n",
      "Requirement already satisfied: kiwisolver>=1.3.1 in c:\\programdata\\anaconda3\\envs\\py39\\lib\\site-packages (from matplotlib>=3.3.0->ultralytics==8.1.34) (1.4.5)\n",
      "Requirement already satisfied: numpy>=1.23 in c:\\programdata\\anaconda3\\envs\\py39\\lib\\site-packages (from matplotlib>=3.3.0->ultralytics==8.1.34) (1.26.4)\n",
      "Requirement already satisfied: packaging>=20.0 in c:\\programdata\\anaconda3\\envs\\py39\\lib\\site-packages (from matplotlib>=3.3.0->ultralytics==8.1.34) (24.1)\n",
      "Requirement already satisfied: pyparsing>=2.3.1 in c:\\programdata\\anaconda3\\envs\\py39\\lib\\site-packages (from matplotlib>=3.3.0->ultralytics==8.1.34) (3.1.2)\n",
      "Requirement already satisfied: python-dateutil>=2.7 in c:\\programdata\\anaconda3\\envs\\py39\\lib\\site-packages (from matplotlib>=3.3.0->ultralytics==8.1.34) (2.9.0.post0)\n",
      "Requirement already satisfied: importlib-resources>=3.2.0 in c:\\programdata\\anaconda3\\envs\\py39\\lib\\site-packages (from matplotlib>=3.3.0->ultralytics==8.1.34) (6.4.0)\n",
      "Requirement already satisfied: pytz>=2020.1 in c:\\programdata\\anaconda3\\envs\\py39\\lib\\site-packages (from pandas>=1.1.4->ultralytics==8.1.34) (2024.1)\n",
      "Requirement already satisfied: tzdata>=2022.7 in c:\\programdata\\anaconda3\\envs\\py39\\lib\\site-packages (from pandas>=1.1.4->ultralytics==8.1.34) (2024.1)\n",
      "Requirement already satisfied: charset-normalizer<4,>=2 in c:\\programdata\\anaconda3\\envs\\py39\\lib\\site-packages (from requests>=2.23.0->ultralytics==8.1.34) (3.3.2)\n",
      "Requirement already satisfied: idna<4,>=2.5 in c:\\programdata\\anaconda3\\envs\\py39\\lib\\site-packages (from requests>=2.23.0->ultralytics==8.1.34) (2.10)\n",
      "Requirement already satisfied: urllib3<3,>=1.21.1 in c:\\programdata\\anaconda3\\envs\\py39\\lib\\site-packages (from requests>=2.23.0->ultralytics==8.1.34) (2.2.1)\n",
      "Requirement already satisfied: certifi>=2017.4.17 in c:\\programdata\\anaconda3\\envs\\py39\\lib\\site-packages (from requests>=2.23.0->ultralytics==8.1.34) (2023.7.22)\n",
      "Requirement already satisfied: filelock in c:\\programdata\\anaconda3\\envs\\py39\\lib\\site-packages (from torch>=1.8.0->ultralytics==8.1.34) (3.15.1)\n",
      "Requirement already satisfied: typing-extensions>=4.8.0 in c:\\programdata\\anaconda3\\envs\\py39\\lib\\site-packages (from torch>=1.8.0->ultralytics==8.1.34) (4.12.2)\n",
      "Requirement already satisfied: sympy in c:\\programdata\\anaconda3\\envs\\py39\\lib\\site-packages (from torch>=1.8.0->ultralytics==8.1.34) (1.12.1)\n",
      "Requirement already satisfied: networkx in c:\\programdata\\anaconda3\\envs\\py39\\lib\\site-packages (from torch>=1.8.0->ultralytics==8.1.34) (3.2.1)\n",
      "Requirement already satisfied: jinja2 in c:\\programdata\\anaconda3\\envs\\py39\\lib\\site-packages (from torch>=1.8.0->ultralytics==8.1.34) (3.1.4)\n",
      "Requirement already satisfied: fsspec in c:\\programdata\\anaconda3\\envs\\py39\\lib\\site-packages (from torch>=1.8.0->ultralytics==8.1.34) (2024.6.0)\n",
      "Requirement already satisfied: mkl<=2021.4.0,>=2021.1.1 in c:\\programdata\\anaconda3\\envs\\py39\\lib\\site-packages (from torch>=1.8.0->ultralytics==8.1.34) (2021.4.0)\n",
      "Requirement already satisfied: colorama in c:\\programdata\\anaconda3\\envs\\py39\\lib\\site-packages (from tqdm>=4.64.0->ultralytics==8.1.34) (0.4.6)\n",
      "Requirement already satisfied: six in c:\\programdata\\anaconda3\\envs\\py39\\lib\\site-packages (from cycler>=0.10->matplotlib>=3.3.0->ultralytics==8.1.34) (1.16.0)\n",
      "Requirement already satisfied: zipp>=3.1.0 in c:\\programdata\\anaconda3\\envs\\py39\\lib\\site-packages (from importlib-resources>=3.2.0->matplotlib>=3.3.0->ultralytics==8.1.34) (3.19.2)\n",
      "Requirement already satisfied: intel-openmp==2021.* in c:\\programdata\\anaconda3\\envs\\py39\\lib\\site-packages (from mkl<=2021.4.0,>=2021.1.1->torch>=1.8.0->ultralytics==8.1.34) (2021.4.0)\n",
      "Requirement already satisfied: tbb==2021.* in c:\\programdata\\anaconda3\\envs\\py39\\lib\\site-packages (from mkl<=2021.4.0,>=2021.1.1->torch>=1.8.0->ultralytics==8.1.34) (2021.12.0)\n",
      "Requirement already satisfied: MarkupSafe>=2.0 in c:\\programdata\\anaconda3\\envs\\py39\\lib\\site-packages (from jinja2->torch>=1.8.0->ultralytics==8.1.34) (2.1.5)\n",
      "Requirement already satisfied: mpmath<1.4.0,>=1.1.0 in c:\\programdata\\anaconda3\\envs\\py39\\lib\\site-packages (from sympy->torch>=1.8.0->ultralytics==8.1.34) (1.3.0)\n",
      "Building wheels for collected packages: ultralytics\n",
      "  Building wheel for ultralytics (pyproject.toml): started\n",
      "  Building wheel for ultralytics (pyproject.toml): finished with status 'done'\n",
      "  Created wheel for ultralytics: filename=ultralytics-8.1.34-py3-none-any.whl size=735243 sha256=0ded4dee842272b27b705a371fa3d7ab2233d9eb77d79d6f184411407525d736\n",
      "  Stored in directory: C:\\Users\\pravi\\AppData\\Local\\Temp\\pip-ephem-wheel-cache-51hbt8ba\\wheels\\5d\\d9\\a7\\0d58fc264107c093821cab81f9bb8f8e7324553f26f57abd96\n",
      "Successfully built ultralytics\n",
      "Installing collected packages: ultralytics\n",
      "  Attempting uninstall: ultralytics\n",
      "    Found existing installation: ultralytics 8.1.34\n",
      "    Uninstalling ultralytics-8.1.34:\n",
      "      Successfully uninstalled ultralytics-8.1.34\n",
      "Successfully installed ultralytics-8.1.34\n"
     ]
    }
   ],
   "source": [
    "!pip install ."
   ]
  },
  {
   "cell_type": "code",
   "execution_count": 5,
   "id": "1mRlAjVwqL2L",
   "metadata": {
    "colab": {
     "base_uri": "https://localhost:8080/"
    },
    "executionInfo": {
     "elapsed": 3993,
     "status": "ok",
     "timestamp": 1718811953922,
     "user": {
      "displayName": "Pravin Sharma",
      "userId": "04208220927024605300"
     },
     "user_tz": -60
    },
    "id": "1mRlAjVwqL2L",
    "outputId": "370845f1-9837-4866-869c-5be602a4bdec"
   },
   "outputs": [
    {
     "name": "stdout",
     "output_type": "stream",
     "text": [
      "Downloaded C:\\Users\\pravi\\OneDrive\\Desktop\\Pravin\\Study\\Masters\\Research Project\\code\\experiment_1\\yolov10\\weights\\yolov10n.pt\n",
      "Downloaded C:\\Users\\pravi\\OneDrive\\Desktop\\Pravin\\Study\\Masters\\Research Project\\code\\experiment_1\\yolov10\\weights\\yolov10s.pt\n",
      "Downloaded C:\\Users\\pravi\\OneDrive\\Desktop\\Pravin\\Study\\Masters\\Research Project\\code\\experiment_1\\yolov10\\weights\\yolov10m.pt\n",
      "Downloaded C:\\Users\\pravi\\OneDrive\\Desktop\\Pravin\\Study\\Masters\\Research Project\\code\\experiment_1\\yolov10\\weights\\yolov10b.pt\n",
      "Downloaded C:\\Users\\pravi\\OneDrive\\Desktop\\Pravin\\Study\\Masters\\Research Project\\code\\experiment_1\\yolov10\\weights\\yolov10x.pt\n",
      "Downloaded C:\\Users\\pravi\\OneDrive\\Desktop\\Pravin\\Study\\Masters\\Research Project\\code\\experiment_1\\yolov10\\weights\\yolov10l.pt\n"
     ]
    }
   ],
   "source": [
    "import os\n",
    "import urllib.request\n",
    "\n",
    "# Create a directory for the weights in the current working directory\n",
    "weights_dir = os.path.join(os.getcwd(), \"weights\")\n",
    "os.makedirs(weights_dir, exist_ok=True)\n",
    "\n",
    "# URLs of the weight files\n",
    "urls = [\n",
    "    \"https://github.com/jameslahm/yolov10/releases/download/v1.0/yolov10n.pt\",\n",
    "    # \"https://github.com/jameslahm/yolov10/releases/download/v1.0/yolov10s.pt\",\n",
    "    # \"https://github.com/jameslahm/yolov10/releases/download/v1.0/yolov10m.pt\",\n",
    "    # \"https://github.com/jameslahm/yolov10/releases/download/v1.0/yolov10b.pt\",\n",
    "    # \"https://github.com/jameslahm/yolov10/releases/download/v1.0/yolov10x.pt\",\n",
    "    # \"https://github.com/jameslahm/yolov10/releases/download/v1.0/yolov10l.pt\"\n",
    "]\n",
    "\n",
    "# Download each file\n",
    "for url in urls:\n",
    "    file_name = os.path.join(weights_dir, os.path.basename(url))\n",
    "    urllib.request.urlretrieve(url, file_name)\n",
    "    print(f\"Downloaded {file_name}\")"
   ]
  },
  {
   "cell_type": "markdown",
   "id": "634d5348-806d-4fa6-ac77-da39d42b05be",
   "metadata": {},
   "source": [
    "## Training"
   ]
  },
  {
   "cell_type": "code",
   "execution_count": 2,
   "id": "kTZesOXhGS4x",
   "metadata": {
    "colab": {
     "base_uri": "https://localhost:8080/"
    },
    "executionInfo": {
     "elapsed": 1140113,
     "status": "ok",
     "timestamp": 1718813160232,
     "user": {
      "displayName": "Pravin Sharma",
      "userId": "04208220927024605300"
     },
     "user_tz": -60
    },
    "id": "kTZesOXhGS4x",
    "outputId": "e16d8fc6-55e5-4974-9bbd-a85c43189dfc"
   },
   "outputs": [
    {
     "name": "stdout",
     "output_type": "stream",
     "text": [
      "New https://pypi.org/project/ultralytics/8.2.38 available ðŸ˜ƒ Update with 'pip install -U ultralytics'\n",
      "Ultralytics YOLOv8.1.34 ðŸš€ Python-3.9.19 torch-2.3.1+cpu CPU (AMD Ryzen 7 5800H with Radeon Graphics)\n",
      "\u001b[34m\u001b[1mengine\\trainer: \u001b[0mtask=detect, mode=train, model=weights/yolov10n.pt, data=./datasets/datasets/data.yaml, epochs=1, time=None, patience=100, batch=16, imgsz=640, save=True, save_period=-1, val_period=1, cache=False, device=None, workers=8, project=None, name=train3, exist_ok=False, pretrained=True, optimizer=auto, verbose=True, seed=0, deterministic=True, single_cls=False, rect=False, cos_lr=False, close_mosaic=10, resume=False, amp=True, fraction=1.0, profile=False, freeze=None, multi_scale=False, overlap_mask=True, mask_ratio=4, dropout=0.0, val=True, split=val, save_json=True, save_hybrid=False, conf=None, iou=0.7, max_det=300, half=False, dnn=False, plots=True, source=None, vid_stride=1, stream_buffer=False, visualize=False, augment=False, agnostic_nms=False, classes=None, retina_masks=False, embed=None, show=False, save_frames=False, save_txt=False, save_conf=False, save_crop=False, show_labels=True, show_conf=True, show_boxes=True, line_width=None, format=torchscript, keras=False, optimize=False, int8=False, dynamic=False, simplify=False, opset=None, workspace=4, nms=False, lr0=0.01, lrf=0.01, momentum=0.937, weight_decay=0.0005, warmup_epochs=3.0, warmup_momentum=0.8, warmup_bias_lr=0.1, box=7.5, cls=0.5, dfl=1.5, pose=12.0, kobj=1.0, label_smoothing=0.0, nbs=64, hsv_h=0.015, hsv_s=0.7, hsv_v=0.4, degrees=0.0, translate=0.1, scale=0.5, shear=0.0, perspective=0.0, flipud=0.0, fliplr=0.5, bgr=0.0, mosaic=1.0, mixup=0.0, copy_paste=0.0, auto_augment=randaugment, erasing=0.4, crop_fraction=1.0, cfg=None, tracker=botsort.yaml, save_dir=runs\\detect\\train3\n"
     ]
    },
    {
     "name": "stderr",
     "output_type": "stream",
     "text": [
      "Traceback (most recent call last):\n",
      "  File \"C:\\ProgramData\\anaconda3\\envs\\py39\\lib\\site-packages\\ultralytics\\engine\\trainer.py\", line 138, in __init__\n",
      "    self.data = check_det_dataset(self.args.data)\n",
      "  File \"C:\\ProgramData\\anaconda3\\envs\\py39\\lib\\site-packages\\ultralytics\\data\\utils.py\", line 327, in check_det_dataset\n",
      "    raise FileNotFoundError(m)\n",
      "FileNotFoundError: \n",
      "Dataset 'datasets/datasets/data.yaml' images not found \\u26a0\\ufe0f, missing path 'C:\\Users\\pravi\\OneDrive\\Desktop\\Pravin\\Study\\Masters\\Research Project\\code\\experiment_1\\datasets\\datasets\\datasets\\farm_labelled\\valid\\images'\n",
      "Note dataset download directory is 'C:\\Users\\pravi\\OneDrive\\Desktop\\Pravin\\Study\\Masters\\Research Project\\code\\experiment_1\\datasets'. You can update this in 'C:\\Users\\pravi\\AppData\\Roaming\\yolov10\\settings.yaml'\n",
      "\n",
      "The above exception was the direct cause of the following exception:\n",
      "\n",
      "Traceback (most recent call last):\n",
      "  File \"C:\\ProgramData\\anaconda3\\envs\\py39\\lib\\runpy.py\", line 197, in _run_module_as_main\n",
      "    return _run_code(code, main_globals, None,\n",
      "  File \"C:\\ProgramData\\anaconda3\\envs\\py39\\lib\\runpy.py\", line 87, in _run_code\n",
      "    exec(code, run_globals)\n",
      "  File \"C:\\ProgramData\\anaconda3\\envs\\py39\\Scripts\\yolo.exe\\__main__.py\", line 7, in <module>\n",
      "    sys.exit(entrypoint())\n",
      "  File \"C:\\ProgramData\\anaconda3\\envs\\py39\\lib\\site-packages\\ultralytics\\cfg\\__init__.py\", line 594, in entrypoint\n",
      "    getattr(model, mode)(**overrides)  # default args from model\n",
      "  File \"C:\\ProgramData\\anaconda3\\envs\\py39\\lib\\site-packages\\ultralytics\\engine\\model.py\", line 638, in train\n",
      "    self.trainer = (trainer or self._smart_load(\"trainer\"))(overrides=args, _callbacks=self.callbacks)\n",
      "  File \"C:\\ProgramData\\anaconda3\\envs\\py39\\lib\\site-packages\\ultralytics\\engine\\trainer.py\", line 142, in __init__\n",
      "    raise RuntimeError(emojis(f\"Dataset '{clean_url(self.args.data)}' error \\u274c {e}\")) from e\n",
      "RuntimeError: Dataset 'datasets/datasets/data.yaml' error  \n",
      "Dataset 'datasets/datasets/data.yaml' images not found , missing path 'C:\\Users\\pravi\\OneDrive\\Desktop\\Pravin\\Study\\Masters\\Research Project\\code\\experiment_1\\datasets\\datasets\\datasets\\farm_labelled\\valid\\images'\n",
      "Note dataset download directory is 'C:\\Users\\pravi\\OneDrive\\Desktop\\Pravin\\Study\\Masters\\Research Project\\code\\experiment_1\\datasets'. You can update this in 'C:\\Users\\pravi\\AppData\\Roaming\\yolov10\\settings.yaml'\n"
     ]
    }
   ],
   "source": [
    "!yolo task=detect mode=train epochs=1 batch=16 plots=True model=weights/yolov10n.pt data=./datasets/datasets/data.yaml save_json=true"
   ]
  },
  {
   "cell_type": "code",
   "execution_count": 10,
   "id": "EhO5gGD1J2Yv",
   "metadata": {
    "executionInfo": {
     "elapsed": 327,
     "status": "ok",
     "timestamp": 1718813370950,
     "user": {
      "displayName": "Pravin Sharma",
      "userId": "04208220927024605300"
     },
     "user_tz": -60
    },
    "id": "EhO5gGD1J2Yv"
   },
   "outputs": [],
   "source": [
    "# Google Colab specific code\n",
    "# !cp -r ./runs \"../drive/MyDrive/Colab Notebooks/Pravin's Thesis\""
   ]
  },
  {
   "cell_type": "markdown",
   "id": "b2612a26-5b9a-4627-9cc5-1ea5d482bf05",
   "metadata": {},
   "source": [
    "## Prediction"
   ]
  },
  {
   "cell_type": "code",
   "execution_count": 7,
   "id": "mk0QmkUWQqd6",
   "metadata": {
    "id": "mk0QmkUWQqd6"
   },
   "outputs": [
    {
     "name": "stdout",
     "output_type": "stream",
     "text": [
      "Ultralytics YOLOv8.1.34 ðŸš€ Python-3.9.19 torch-2.3.1+cpu CPU (AMD Ryzen 7 5800H with Radeon Graphics)\n",
      "YOLOv10n summary (fused): 285 layers, 2695976 parameters, 0 gradients, 8.2 GFLOPs\n",
      "\n",
      "image 1/1 C:\\Users\\pravi\\OneDrive\\Desktop\\Pravin\\Study\\Masters\\Research Project\\code\\experiment_1\\yolov10\\datasets\\datasets\\farm_labelled\\valid\\images\\cocci.34.jpg: 640x288 1 cocci, 67.0ms\n",
      "Speed: 2.0ms preprocess, 67.0ms inference, 2.0ms postprocess per image at shape (1, 3, 640, 288)\n",
      "Results saved to \u001b[1mruns\\detect\\predict2\u001b[0m\n",
      "ðŸ’¡ Learn more at https://docs.ultralytics.com/modes/predict\n"
     ]
    }
   ],
   "source": [
    "!yolo task=detect mode=predict conf=0.25 save=True model=./runs/detect/train/train/weights/best.pt source=./datasets/datasets/farm_labelled/valid/images/cocci.34.jpg"
   ]
  },
  {
   "cell_type": "code",
   "execution_count": null,
   "id": "5c4b1aaa-4b68-419d-abbb-9f8a0a154a9c",
   "metadata": {},
   "outputs": [],
   "source": []
  }
 ],
 "metadata": {
  "accelerator": "GPU",
  "colab": {
   "gpuType": "T4",
   "machine_shape": "hm",
   "provenance": []
  },
  "kernelspec": {
   "display_name": "Python 3 (ipykernel)",
   "language": "python",
   "name": "python3"
  },
  "language_info": {
   "codemirror_mode": {
    "name": "ipython",
    "version": 3
   },
   "file_extension": ".py",
   "mimetype": "text/x-python",
   "name": "python",
   "nbconvert_exporter": "python",
   "pygments_lexer": "ipython3",
   "version": "3.9.19"
  },
  "widgets": {
   "application/vnd.jupyter.widget-state+json": {
    "state": {},
    "version_major": 2,
    "version_minor": 0
   }
  }
 },
 "nbformat": 4,
 "nbformat_minor": 5
}
