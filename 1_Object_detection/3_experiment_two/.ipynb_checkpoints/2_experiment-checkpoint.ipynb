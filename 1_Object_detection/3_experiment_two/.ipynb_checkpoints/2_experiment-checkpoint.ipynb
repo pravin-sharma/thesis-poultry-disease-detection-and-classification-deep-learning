{
 "cells": [
  {
   "cell_type": "code",
   "execution_count": 1,
   "id": "nTim5a7ppbRv",
   "metadata": {
    "colab": {
     "base_uri": "https://localhost:8080/"
    },
    "executionInfo": {
     "elapsed": 269,
     "status": "ok",
     "timestamp": 1718811669791,
     "user": {
      "displayName": "Pravin Sharma",
      "userId": "04208220927024605300"
     },
     "user_tz": -60
    },
    "id": "nTim5a7ppbRv",
    "outputId": "b2038094-230a-4e0f-bbc4-cb2df7a71d98"
   },
   "outputs": [
    {
     "name": "stdout",
     "output_type": "stream",
     "text": [
      "Python 3.9.19\n"
     ]
    }
   ],
   "source": [
    "!python --version"
   ]
  },
  {
   "cell_type": "code",
   "execution_count": 2,
   "id": "ynGGHMQPp9oo",
   "metadata": {
    "colab": {
     "base_uri": "https://localhost:8080/"
    },
    "executionInfo": {
     "elapsed": 1538,
     "status": "ok",
     "timestamp": 1718811672519,
     "user": {
      "displayName": "Pravin Sharma",
      "userId": "04208220927024605300"
     },
     "user_tz": -60
    },
    "id": "ynGGHMQPp9oo",
    "outputId": "87261b7e-ce42-4ee2-8598-bf57bdbbdbed"
   },
   "outputs": [
    {
     "name": "stderr",
     "output_type": "stream",
     "text": [
      "Cloning into 'yolov10'...\n"
     ]
    }
   ],
   "source": [
    "!git clone https://github.com/THU-MIG/yolov10.git"
   ]
  },
  {
   "cell_type": "code",
   "execution_count": 3,
   "id": "n2VXPAVkjUW0",
   "metadata": {
    "colab": {
     "base_uri": "https://localhost:8080/"
    },
    "executionInfo": {
     "elapsed": 136440,
     "status": "ok",
     "timestamp": 1718811819375,
     "user": {
      "displayName": "Pravin Sharma",
      "userId": "04208220927024605300"
     },
     "user_tz": -60
    },
    "id": "n2VXPAVkjUW0",
    "outputId": "a1fd1210-f0ec-43f9-8075-62c09b02294d"
   },
   "outputs": [
    {
     "name": "stdout",
     "output_type": "stream",
     "text": [
      "Mounted at /content/drive\n"
     ]
    }
   ],
   "source": [
    "# # # Google Colab Specific commands\n",
    "# from google.colab import drive\n",
    "# drive.mount('/content/drive')\n",
    "# # # # Example: Unzip into the current working directory - since i have a zip in my drive and i want to unzip into my colab env for faster access\n",
    "# !unzip -q \"/content/drive/MyDrive/Colab Notebooks/Pravin's Thesis/datasets.zip\" -d '/content/yolov10/datasets/'"
   ]
  },
  {
   "cell_type": "code",
   "execution_count": 1,
   "id": "4e6RKEmvqFhO",
   "metadata": {
    "colab": {
     "base_uri": "https://localhost:8080/"
    },
    "executionInfo": {
     "elapsed": 355,
     "status": "ok",
     "timestamp": 1718811882140,
     "user": {
      "displayName": "Pravin Sharma",
      "userId": "04208220927024605300"
     },
     "user_tz": -60
    },
    "id": "4e6RKEmvqFhO",
    "outputId": "e8582672-cda3-4bf5-b3ba-1ba27e8d935a"
   },
   "outputs": [
    {
     "name": "stdout",
     "output_type": "stream",
     "text": [
      "C:\\Users\\pravi\\OneDrive\\Desktop\\Pravin\\Study\\Masters\\Research Project\\code\\3_experiment\\yolov10\n"
     ]
    },
    {
     "name": "stderr",
     "output_type": "stream",
     "text": [
      "C:\\ProgramData\\anaconda3\\envs\\py39\\lib\\site-packages\\IPython\\core\\magics\\osm.py:417: UserWarning: using dhist requires you to install the `pickleshare` library.\n",
      "  self.shell.db['dhist'] = compress_dhist(dhist)[-100:]\n"
     ]
    }
   ],
   "source": [
    "cd yolov10"
   ]
  },
  {
   "cell_type": "code",
   "execution_count": 4,
   "id": "DXRfZWDHqJqJ",
   "metadata": {
    "colab": {
     "base_uri": "https://localhost:8080/"
    },
    "executionInfo": {
     "elapsed": 66624,
     "status": "ok",
     "timestamp": 1718811949932,
     "user": {
      "displayName": "Pravin Sharma",
      "userId": "04208220927024605300"
     },
     "user_tz": -60
    },
    "id": "DXRfZWDHqJqJ",
    "outputId": "d0470b87-fdb4-4221-c8a2-3fd09160180d",
    "scrolled": true
   },
   "outputs": [
    {
     "name": "stdout",
     "output_type": "stream",
     "text": [
      "Processing c:\\users\\pravi\\onedrive\\desktop\\pravin\\study\\masters\\research project\\code\\experiment_1\\yolov10\n",
      "  Installing build dependencies: started\n",
      "  Installing build dependencies: finished with status 'done'\n",
      "  Getting requirements to build wheel: started\n",
      "  Getting requirements to build wheel: finished with status 'done'\n",
      "  Preparing metadata (pyproject.toml): started\n",
      "  Preparing metadata (pyproject.toml): finished with status 'done'\n",
      "Requirement already satisfied: matplotlib>=3.3.0 in c:\\programdata\\anaconda3\\envs\\py39\\lib\\site-packages (from ultralytics==8.1.34) (3.9.0)\n",
      "Requirement already satisfied: opencv-python>=4.6.0 in c:\\programdata\\anaconda3\\envs\\py39\\lib\\site-packages (from ultralytics==8.1.34) (4.10.0.84)\n",
      "Requirement already satisfied: pillow>=7.1.2 in c:\\programdata\\anaconda3\\envs\\py39\\lib\\site-packages (from ultralytics==8.1.34) (10.3.0)\n",
      "Requirement already satisfied: pyyaml>=5.3.1 in c:\\programdata\\anaconda3\\envs\\py39\\lib\\site-packages (from ultralytics==8.1.34) (6.0.1)\n",
      "Requirement already satisfied: requests>=2.23.0 in c:\\programdata\\anaconda3\\envs\\py39\\lib\\site-packages (from ultralytics==8.1.34) (2.32.3)\n",
      "Requirement already satisfied: scipy>=1.4.1 in c:\\programdata\\anaconda3\\envs\\py39\\lib\\site-packages (from ultralytics==8.1.34) (1.13.1)\n",
      "Requirement already satisfied: torch>=1.8.0 in c:\\programdata\\anaconda3\\envs\\py39\\lib\\site-packages (from ultralytics==8.1.34) (2.3.1)\n",
      "Requirement already satisfied: torchvision>=0.9.0 in c:\\programdata\\anaconda3\\envs\\py39\\lib\\site-packages (from ultralytics==8.1.34) (0.18.1)\n",
      "Requirement already satisfied: tqdm>=4.64.0 in c:\\programdata\\anaconda3\\envs\\py39\\lib\\site-packages (from ultralytics==8.1.34) (4.66.4)\n",
      "Requirement already satisfied: psutil in c:\\programdata\\anaconda3\\envs\\py39\\lib\\site-packages (from ultralytics==8.1.34) (5.9.8)\n",
      "Requirement already satisfied: py-cpuinfo in c:\\programdata\\anaconda3\\envs\\py39\\lib\\site-packages (from ultralytics==8.1.34) (9.0.0)\n",
      "Requirement already satisfied: thop>=0.1.1 in c:\\programdata\\anaconda3\\envs\\py39\\lib\\site-packages (from ultralytics==8.1.34) (0.1.1.post2209072238)\n",
      "Requirement already satisfied: pandas>=1.1.4 in c:\\programdata\\anaconda3\\envs\\py39\\lib\\site-packages (from ultralytics==8.1.34) (2.2.2)\n",
      "Requirement already satisfied: seaborn>=0.11.0 in c:\\programdata\\anaconda3\\envs\\py39\\lib\\site-packages (from ultralytics==8.1.34) (0.13.2)\n",
      "Requirement already satisfied: contourpy>=1.0.1 in c:\\programdata\\anaconda3\\envs\\py39\\lib\\site-packages (from matplotlib>=3.3.0->ultralytics==8.1.34) (1.2.1)\n",
      "Requirement already satisfied: cycler>=0.10 in c:\\programdata\\anaconda3\\envs\\py39\\lib\\site-packages (from matplotlib>=3.3.0->ultralytics==8.1.34) (0.10.0)\n",
      "Requirement already satisfied: fonttools>=4.22.0 in c:\\programdata\\anaconda3\\envs\\py39\\lib\\site-packages (from matplotlib>=3.3.0->ultralytics==8.1.34) (4.53.0)\n",
      "Requirement already satisfied: kiwisolver>=1.3.1 in c:\\programdata\\anaconda3\\envs\\py39\\lib\\site-packages (from matplotlib>=3.3.0->ultralytics==8.1.34) (1.4.5)\n",
      "Requirement already satisfied: numpy>=1.23 in c:\\programdata\\anaconda3\\envs\\py39\\lib\\site-packages (from matplotlib>=3.3.0->ultralytics==8.1.34) (1.26.4)\n",
      "Requirement already satisfied: packaging>=20.0 in c:\\programdata\\anaconda3\\envs\\py39\\lib\\site-packages (from matplotlib>=3.3.0->ultralytics==8.1.34) (24.1)\n",
      "Requirement already satisfied: pyparsing>=2.3.1 in c:\\programdata\\anaconda3\\envs\\py39\\lib\\site-packages (from matplotlib>=3.3.0->ultralytics==8.1.34) (3.1.2)\n",
      "Requirement already satisfied: python-dateutil>=2.7 in c:\\programdata\\anaconda3\\envs\\py39\\lib\\site-packages (from matplotlib>=3.3.0->ultralytics==8.1.34) (2.9.0.post0)\n",
      "Requirement already satisfied: importlib-resources>=3.2.0 in c:\\programdata\\anaconda3\\envs\\py39\\lib\\site-packages (from matplotlib>=3.3.0->ultralytics==8.1.34) (6.4.0)\n",
      "Requirement already satisfied: pytz>=2020.1 in c:\\programdata\\anaconda3\\envs\\py39\\lib\\site-packages (from pandas>=1.1.4->ultralytics==8.1.34) (2024.1)\n",
      "Requirement already satisfied: tzdata>=2022.7 in c:\\programdata\\anaconda3\\envs\\py39\\lib\\site-packages (from pandas>=1.1.4->ultralytics==8.1.34) (2024.1)\n",
      "Requirement already satisfied: charset-normalizer<4,>=2 in c:\\programdata\\anaconda3\\envs\\py39\\lib\\site-packages (from requests>=2.23.0->ultralytics==8.1.34) (3.3.2)\n",
      "Requirement already satisfied: idna<4,>=2.5 in c:\\programdata\\anaconda3\\envs\\py39\\lib\\site-packages (from requests>=2.23.0->ultralytics==8.1.34) (2.10)\n",
      "Requirement already satisfied: urllib3<3,>=1.21.1 in c:\\programdata\\anaconda3\\envs\\py39\\lib\\site-packages (from requests>=2.23.0->ultralytics==8.1.34) (2.2.1)\n",
      "Requirement already satisfied: certifi>=2017.4.17 in c:\\programdata\\anaconda3\\envs\\py39\\lib\\site-packages (from requests>=2.23.0->ultralytics==8.1.34) (2023.7.22)\n",
      "Requirement already satisfied: filelock in c:\\programdata\\anaconda3\\envs\\py39\\lib\\site-packages (from torch>=1.8.0->ultralytics==8.1.34) (3.15.1)\n",
      "Requirement already satisfied: typing-extensions>=4.8.0 in c:\\programdata\\anaconda3\\envs\\py39\\lib\\site-packages (from torch>=1.8.0->ultralytics==8.1.34) (4.12.2)\n",
      "Requirement already satisfied: sympy in c:\\programdata\\anaconda3\\envs\\py39\\lib\\site-packages (from torch>=1.8.0->ultralytics==8.1.34) (1.12.1)\n",
      "Requirement already satisfied: networkx in c:\\programdata\\anaconda3\\envs\\py39\\lib\\site-packages (from torch>=1.8.0->ultralytics==8.1.34) (3.2.1)\n",
      "Requirement already satisfied: jinja2 in c:\\programdata\\anaconda3\\envs\\py39\\lib\\site-packages (from torch>=1.8.0->ultralytics==8.1.34) (3.1.4)\n",
      "Requirement already satisfied: fsspec in c:\\programdata\\anaconda3\\envs\\py39\\lib\\site-packages (from torch>=1.8.0->ultralytics==8.1.34) (2024.6.0)\n",
      "Requirement already satisfied: mkl<=2021.4.0,>=2021.1.1 in c:\\programdata\\anaconda3\\envs\\py39\\lib\\site-packages (from torch>=1.8.0->ultralytics==8.1.34) (2021.4.0)\n",
      "Requirement already satisfied: colorama in c:\\programdata\\anaconda3\\envs\\py39\\lib\\site-packages (from tqdm>=4.64.0->ultralytics==8.1.34) (0.4.6)\n",
      "Requirement already satisfied: six in c:\\programdata\\anaconda3\\envs\\py39\\lib\\site-packages (from cycler>=0.10->matplotlib>=3.3.0->ultralytics==8.1.34) (1.16.0)\n",
      "Requirement already satisfied: zipp>=3.1.0 in c:\\programdata\\anaconda3\\envs\\py39\\lib\\site-packages (from importlib-resources>=3.2.0->matplotlib>=3.3.0->ultralytics==8.1.34) (3.19.2)\n",
      "Requirement already satisfied: intel-openmp==2021.* in c:\\programdata\\anaconda3\\envs\\py39\\lib\\site-packages (from mkl<=2021.4.0,>=2021.1.1->torch>=1.8.0->ultralytics==8.1.34) (2021.4.0)\n",
      "Requirement already satisfied: tbb==2021.* in c:\\programdata\\anaconda3\\envs\\py39\\lib\\site-packages (from mkl<=2021.4.0,>=2021.1.1->torch>=1.8.0->ultralytics==8.1.34) (2021.12.0)\n",
      "Requirement already satisfied: MarkupSafe>=2.0 in c:\\programdata\\anaconda3\\envs\\py39\\lib\\site-packages (from jinja2->torch>=1.8.0->ultralytics==8.1.34) (2.1.5)\n",
      "Requirement already satisfied: mpmath<1.4.0,>=1.1.0 in c:\\programdata\\anaconda3\\envs\\py39\\lib\\site-packages (from sympy->torch>=1.8.0->ultralytics==8.1.34) (1.3.0)\n",
      "Building wheels for collected packages: ultralytics\n",
      "  Building wheel for ultralytics (pyproject.toml): started\n",
      "  Building wheel for ultralytics (pyproject.toml): finished with status 'done'\n",
      "  Created wheel for ultralytics: filename=ultralytics-8.1.34-py3-none-any.whl size=735243 sha256=0ded4dee842272b27b705a371fa3d7ab2233d9eb77d79d6f184411407525d736\n",
      "  Stored in directory: C:\\Users\\pravi\\AppData\\Local\\Temp\\pip-ephem-wheel-cache-51hbt8ba\\wheels\\5d\\d9\\a7\\0d58fc264107c093821cab81f9bb8f8e7324553f26f57abd96\n",
      "Successfully built ultralytics\n",
      "Installing collected packages: ultralytics\n",
      "  Attempting uninstall: ultralytics\n",
      "    Found existing installation: ultralytics 8.1.34\n",
      "    Uninstalling ultralytics-8.1.34:\n",
      "      Successfully uninstalled ultralytics-8.1.34\n",
      "Successfully installed ultralytics-8.1.34\n"
     ]
    }
   ],
   "source": [
    "!pip install ."
   ]
  },
  {
   "cell_type": "code",
   "execution_count": 5,
   "id": "1mRlAjVwqL2L",
   "metadata": {
    "colab": {
     "base_uri": "https://localhost:8080/"
    },
    "executionInfo": {
     "elapsed": 3993,
     "status": "ok",
     "timestamp": 1718811953922,
     "user": {
      "displayName": "Pravin Sharma",
      "userId": "04208220927024605300"
     },
     "user_tz": -60
    },
    "id": "1mRlAjVwqL2L",
    "outputId": "370845f1-9837-4866-869c-5be602a4bdec"
   },
   "outputs": [
    {
     "name": "stdout",
     "output_type": "stream",
     "text": [
      "Downloaded C:\\Users\\pravi\\OneDrive\\Desktop\\Pravin\\Study\\Masters\\Research Project\\code\\experiment_1\\yolov10\\weights\\yolov10n.pt\n",
      "Downloaded C:\\Users\\pravi\\OneDrive\\Desktop\\Pravin\\Study\\Masters\\Research Project\\code\\experiment_1\\yolov10\\weights\\yolov10s.pt\n",
      "Downloaded C:\\Users\\pravi\\OneDrive\\Desktop\\Pravin\\Study\\Masters\\Research Project\\code\\experiment_1\\yolov10\\weights\\yolov10m.pt\n",
      "Downloaded C:\\Users\\pravi\\OneDrive\\Desktop\\Pravin\\Study\\Masters\\Research Project\\code\\experiment_1\\yolov10\\weights\\yolov10b.pt\n",
      "Downloaded C:\\Users\\pravi\\OneDrive\\Desktop\\Pravin\\Study\\Masters\\Research Project\\code\\experiment_1\\yolov10\\weights\\yolov10x.pt\n",
      "Downloaded C:\\Users\\pravi\\OneDrive\\Desktop\\Pravin\\Study\\Masters\\Research Project\\code\\experiment_1\\yolov10\\weights\\yolov10l.pt\n"
     ]
    }
   ],
   "source": [
    "import os\n",
    "import urllib.request\n",
    "\n",
    "# Create a directory for the weights in the current working directory\n",
    "weights_dir = os.path.join(os.getcwd(), \"weights\")\n",
    "os.makedirs(weights_dir, exist_ok=True)\n",
    "\n",
    "# URLs of the weight files\n",
    "urls = [\n",
    "    \"https://github.com/jameslahm/yolov10/releases/download/v1.0/yolov10n.pt\",\n",
    "    # \"https://github.com/jameslahm/yolov10/releases/download/v1.0/yolov10s.pt\",\n",
    "    # \"https://github.com/jameslahm/yolov10/releases/download/v1.0/yolov10m.pt\",\n",
    "    # \"https://github.com/jameslahm/yolov10/releases/download/v1.0/yolov10b.pt\",\n",
    "    # \"https://github.com/jameslahm/yolov10/releases/download/v1.0/yolov10x.pt\",\n",
    "    # \"https://github.com/jameslahm/yolov10/releases/download/v1.0/yolov10l.pt\"\n",
    "]\n",
    "\n",
    "# Download each file\n",
    "for url in urls:\n",
    "    file_name = os.path.join(weights_dir, os.path.basename(url))\n",
    "    urllib.request.urlretrieve(url, file_name)\n",
    "    print(f\"Downloaded {file_name}\")"
   ]
  },
  {
   "cell_type": "code",
   "execution_count": 6,
   "id": "P8ccKOpKqjxv",
   "metadata": {
    "colab": {
     "base_uri": "https://localhost:8080/"
    },
    "executionInfo": {
     "elapsed": 8468,
     "status": "ok",
     "timestamp": 1718811986494,
     "user": {
      "displayName": "Pravin Sharma",
      "userId": "04208220927024605300"
     },
     "user_tz": -60
    },
    "id": "P8ccKOpKqjxv",
    "outputId": "9cce291d-5211-4cbb-dad3-98457859b661"
   },
   "outputs": [
    {
     "name": "stdout",
     "output_type": "stream",
     "text": [
      "Ultralytics YOLOv8.1.34 ðŸš€ Python-3.9.19 torch-2.3.1+cpu CPU (AMD Ryzen 7 5800H with Radeon Graphics)\n",
      "YOLOv10n summary (fused): 285 layers, 2762608 parameters, 63840 gradients, 8.6 GFLOPs\n",
      "\n",
      "image 1/1 C:\\Users\\pravi\\OneDrive\\Desktop\\Pravin\\Study\\Masters\\Research Project\\code\\experiment_1\\yolov10\\..\\test_images\\1.jpg: 448x640 4 17s, 77.3ms\n",
      "Speed: 5.0ms preprocess, 77.3ms inference, 11.2ms postprocess per image at shape (1, 3, 448, 640)\n",
      "Results saved to \u001b[1mruns\\detect\\predict\u001b[0m\n",
      "ðŸ’¡ Learn more at https://docs.ultralytics.com/modes/predict\n"
     ]
    }
   ],
   "source": [
    "!yolo task=detect mode=predict conf=0.25 save=True model=../weights/yolov10n.pt source=../test_images/1.jpg"
   ]
  },
  {
   "cell_type": "code",
   "execution_count": 9,
   "id": "kTZesOXhGS4x",
   "metadata": {
    "colab": {
     "base_uri": "https://localhost:8080/"
    },
    "executionInfo": {
     "elapsed": 1140113,
     "status": "ok",
     "timestamp": 1718813160232,
     "user": {
      "displayName": "Pravin Sharma",
      "userId": "04208220927024605300"
     },
     "user_tz": -60
    },
    "id": "kTZesOXhGS4x",
    "outputId": "e16d8fc6-55e5-4974-9bbd-a85c43189dfc"
   },
   "outputs": [
    {
     "name": "stdout",
     "output_type": "stream",
     "text": [
      "New https://pypi.org/project/ultralytics/8.2.35 available 😃 Update with 'pip install -U ultralytics'\n",
      "Ultralytics YOLOv8.1.34 🚀 Python-3.10.12 torch-2.3.0+cu121 CUDA:0 (Tesla T4, 15102MiB)\n",
      "\u001b[34m\u001b[1mengine/trainer: \u001b[0mtask=detect, mode=train, model=weights/yolov10n.pt, data=./datasets/datasets/data.yaml, epochs=10, time=None, patience=100, batch=16, imgsz=640, save=True, save_period=-1, val_period=1, cache=False, device=None, workers=8, project=None, name=train2, exist_ok=False, pretrained=True, optimizer=auto, verbose=True, seed=0, deterministic=True, single_cls=False, rect=False, cos_lr=False, close_mosaic=10, resume=False, amp=True, fraction=1.0, profile=False, freeze=None, multi_scale=False, overlap_mask=True, mask_ratio=4, dropout=0.0, val=True, split=val, save_json=False, save_hybrid=False, conf=None, iou=0.7, max_det=300, half=False, dnn=False, plots=True, source=None, vid_stride=1, stream_buffer=False, visualize=False, augment=False, agnostic_nms=False, classes=None, retina_masks=False, embed=None, show=False, save_frames=False, save_txt=False, save_conf=False, save_crop=False, show_labels=True, show_conf=True, show_boxes=True, line_width=None, format=torchscript, keras=False, optimize=False, int8=False, dynamic=False, simplify=False, opset=None, workspace=4, nms=False, lr0=0.01, lrf=0.01, momentum=0.937, weight_decay=0.0005, warmup_epochs=3.0, warmup_momentum=0.8, warmup_bias_lr=0.1, box=7.5, cls=0.5, dfl=1.5, pose=12.0, kobj=1.0, label_smoothing=0.0, nbs=64, hsv_h=0.015, hsv_s=0.7, hsv_v=0.4, degrees=0.0, translate=0.1, scale=0.5, shear=0.0, perspective=0.0, flipud=0.0, fliplr=0.5, bgr=0.0, mosaic=1.0, mixup=0.0, copy_paste=0.0, auto_augment=randaugment, erasing=0.4, crop_fraction=1.0, cfg=None, tracker=botsort.yaml, save_dir=runs/detect/train2\n",
      "Downloading https://ultralytics.com/assets/Arial.ttf to '/root/.config/yolov10/Arial.ttf'...\n",
      "100% 755k/755k [00:00<00:00, 14.5MB/s]\n",
      "2024-06-19 15:47:04.792919: E external/local_xla/xla/stream_executor/cuda/cuda_dnn.cc:9261] Unable to register cuDNN factory: Attempting to register factory for plugin cuDNN when one has already been registered\n",
      "2024-06-19 15:47:04.792973: E external/local_xla/xla/stream_executor/cuda/cuda_fft.cc:607] Unable to register cuFFT factory: Attempting to register factory for plugin cuFFT when one has already been registered\n",
      "2024-06-19 15:47:04.794331: E external/local_xla/xla/stream_executor/cuda/cuda_blas.cc:1515] Unable to register cuBLAS factory: Attempting to register factory for plugin cuBLAS when one has already been registered\n",
      "Overriding model.yaml nc=80 with nc=4\n",
      "\n",
      "                   from  n    params  module                                       arguments                     \n",
      "  0                  -1  1       464  ultralytics.nn.modules.conv.Conv             [3, 16, 3, 2]                 \n",
      "  1                  -1  1      4672  ultralytics.nn.modules.conv.Conv             [16, 32, 3, 2]                \n",
      "  2                  -1  1      7360  ultralytics.nn.modules.block.C2f             [32, 32, 1, True]             \n",
      "  3                  -1  1     18560  ultralytics.nn.modules.conv.Conv             [32, 64, 3, 2]                \n",
      "  4                  -1  2     49664  ultralytics.nn.modules.block.C2f             [64, 64, 2, True]             \n",
      "  5                  -1  1      9856  ultralytics.nn.modules.block.SCDown          [64, 128, 3, 2]               \n",
      "  6                  -1  2    197632  ultralytics.nn.modules.block.C2f             [128, 128, 2, True]           \n",
      "  7                  -1  1     36096  ultralytics.nn.modules.block.SCDown          [128, 256, 3, 2]              \n",
      "  8                  -1  1    460288  ultralytics.nn.modules.block.C2f             [256, 256, 1, True]           \n",
      "  9                  -1  1    164608  ultralytics.nn.modules.block.SPPF            [256, 256, 5]                 \n",
      " 10                  -1  1    249728  ultralytics.nn.modules.block.PSA             [256, 256]                    \n",
      " 11                  -1  1         0  torch.nn.modules.upsampling.Upsample         [None, 2, 'nearest']          \n",
      " 12             [-1, 6]  1         0  ultralytics.nn.modules.conv.Concat           [1]                           \n",
      " 13                  -1  1    148224  ultralytics.nn.modules.block.C2f             [384, 128, 1]                 \n",
      " 14                  -1  1         0  torch.nn.modules.upsampling.Upsample         [None, 2, 'nearest']          \n",
      " 15             [-1, 4]  1         0  ultralytics.nn.modules.conv.Concat           [1]                           \n",
      " 16                  -1  1     37248  ultralytics.nn.modules.block.C2f             [192, 64, 1]                  \n",
      " 17                  -1  1     36992  ultralytics.nn.modules.conv.Conv             [64, 64, 3, 2]                \n",
      " 18            [-1, 13]  1         0  ultralytics.nn.modules.conv.Concat           [1]                           \n",
      " 19                  -1  1    123648  ultralytics.nn.modules.block.C2f             [192, 128, 1]                 \n",
      " 20                  -1  1     18048  ultralytics.nn.modules.block.SCDown          [128, 128, 3, 2]              \n",
      " 21            [-1, 10]  1         0  ultralytics.nn.modules.conv.Concat           [1]                           \n",
      " 22                  -1  1    282624  ultralytics.nn.modules.block.C2fCIB          [384, 256, 1, True, True]     \n",
      " 23        [16, 19, 22]  1    862888  ultralytics.nn.modules.head.v10Detect        [4, [64, 128, 256]]           \n",
      "YOLOv10n summary: 385 layers, 2708600 parameters, 2708584 gradients, 8.4 GFLOPs\n",
      "\n",
      "Transferred 493/595 items from pretrained weights\n",
      "\u001b[34m\u001b[1mTensorBoard: \u001b[0mStart with 'tensorboard --logdir runs/detect/train2', view at http://localhost:6006/\n",
      "Freezing layer 'model.23.dfl.conv.weight'\n",
      "\u001b[34m\u001b[1mAMP: \u001b[0mrunning Automatic Mixed Precision (AMP) checks with YOLOv8n...\n",
      "Downloading https://github.com/ultralytics/assets/releases/download/v8.1.0/yolov8n.pt to 'yolov8n.pt'...\n",
      "100% 6.23M/6.23M [00:00<00:00, 74.2MB/s]\n",
      "/usr/local/lib/python3.10/dist-packages/torch/nn/modules/conv.py:456: UserWarning: Plan failed with a cudnnException: CUDNN_BACKEND_EXECUTION_PLAN_DESCRIPTOR: cudnnFinalize Descriptor Failed cudnn_status: CUDNN_STATUS_NOT_SUPPORTED (Triggered internally at ../aten/src/ATen/native/cudnn/Conv_v8.cpp:919.)\n",
      "  return F.conv2d(input, weight, bias, self.stride,\n",
      "\u001b[34m\u001b[1mAMP: \u001b[0mchecks passed ✅\n",
      "\u001b[34m\u001b[1mtrain: \u001b[0mScanning /content/yolov10/datasets/datasets/farm_labelled/train/labels... 4768 images, 3 backgrounds, 1 corrupt: 100% 4768/4768 [00:06<00:00, 788.90it/s] \n",
      "\u001b[34m\u001b[1mtrain: \u001b[0mWARNING ⚠️ /content/yolov10/datasets/datasets/farm_labelled/train/images/cocci.1138.jpg: ignoring corrupt image/label: negative label values [  -0.000694]\n",
      "\u001b[34m\u001b[1mtrain: \u001b[0mNew cache created: /content/yolov10/datasets/datasets/farm_labelled/train/labels.cache\n",
      "\u001b[34m\u001b[1malbumentations: \u001b[0mBlur(p=0.01, blur_limit=(3, 7)), MedianBlur(p=0.01, blur_limit=(3, 7)), ToGray(p=0.01), CLAHE(p=0.01, clip_limit=(1, 4.0), tile_grid_size=(8, 8))\n",
      "/usr/lib/python3.10/multiprocessing/popen_fork.py:66: RuntimeWarning: os.fork() was called. os.fork() is incompatible with multithreaded code, and JAX is multithreaded, so this will likely lead to a deadlock.\n",
      "  self.pid = os.fork()\n",
      "\u001b[34m\u001b[1mval: \u001b[0mScanning /content/yolov10/datasets/datasets/farm_labelled/valid/labels... 1363 images, 0 backgrounds, 0 corrupt: 100% 1363/1363 [00:01<00:00, 1206.66it/s]\n",
      "\u001b[34m\u001b[1mval: \u001b[0mNew cache created: /content/yolov10/datasets/datasets/farm_labelled/valid/labels.cache\n",
      "Plotting labels to runs/detect/train2/labels.jpg... \n",
      "\u001b[34m\u001b[1moptimizer:\u001b[0m 'optimizer=auto' found, ignoring 'lr0=0.01' and 'momentum=0.937' and determining best 'optimizer', 'lr0' and 'momentum' automatically... \n",
      "\u001b[34m\u001b[1moptimizer:\u001b[0m AdamW(lr=0.00125, momentum=0.9) with parameter groups 95 weight(decay=0.0), 108 weight(decay=0.0005), 107 bias(decay=0.0)\n",
      "\u001b[34m\u001b[1mTensorBoard: \u001b[0mmodel graph visualization added ✅\n",
      "Image sizes 640 train, 640 val\n",
      "Using 8 dataloader workers\n",
      "Logging results to \u001b[1mruns/detect/train2\u001b[0m\n",
      "Starting training for 10 epochs...\n",
      "Closing dataloader mosaic\n",
      "\u001b[34m\u001b[1malbumentations: \u001b[0mBlur(p=0.01, blur_limit=(3, 7)), MedianBlur(p=0.01, blur_limit=(3, 7)), ToGray(p=0.01), CLAHE(p=0.01, clip_limit=(1, 4.0), tile_grid_size=(8, 8))\n",
      "/usr/lib/python3.10/multiprocessing/popen_fork.py:66: RuntimeWarning: os.fork() was called. os.fork() is incompatible with multithreaded code, and JAX is multithreaded, so this will likely lead to a deadlock.\n",
      "  self.pid = os.fork()\n",
      "\n",
      "      Epoch    GPU_mem     box_om     cls_om     dfl_om     box_oo     cls_oo     dfl_oo  Instances       Size\n",
      "       1/10      3.08G      1.286       2.94      1.387      1.198       7.86      1.286         18        640: 100% 298/298 [01:29<00:00,  3.31it/s]\n",
      "                 Class     Images  Instances      Box(P          R      mAP50  mAP50-95): 100% 43/43 [00:20<00:00,  2.08it/s]\n",
      "                   all       1363       1817      0.642      0.351      0.392      0.229\n",
      "\n",
      "      Epoch    GPU_mem     box_om     cls_om     dfl_om     box_oo     cls_oo     dfl_oo  Instances       Size\n",
      "       2/10       3.1G      1.341      1.979      1.389      1.355      3.827      1.338         18        640: 100% 298/298 [01:25<00:00,  3.48it/s]\n",
      "                 Class     Images  Instances      Box(P          R      mAP50  mAP50-95): 100% 43/43 [00:19<00:00,  2.20it/s]\n",
      "                   all       1363       1817      0.678      0.384      0.422       0.24\n",
      "\n",
      "      Epoch    GPU_mem     box_om     cls_om     dfl_om     box_oo     cls_oo     dfl_oo  Instances       Size\n",
      "       3/10       3.1G      1.342      1.576      1.379      1.403      2.221      1.358         20        640: 100% 298/298 [01:23<00:00,  3.55it/s]\n",
      "                 Class     Images  Instances      Box(P          R      mAP50  mAP50-95): 100% 43/43 [00:19<00:00,  2.17it/s]\n",
      "                   all       1363       1817      0.719      0.405      0.466      0.278\n",
      "\n",
      "      Epoch    GPU_mem     box_om     cls_om     dfl_om     box_oo     cls_oo     dfl_oo  Instances       Size\n",
      "       4/10       3.1G      1.302      1.446      1.352      1.374      1.828      1.334         16        640: 100% 298/298 [01:24<00:00,  3.52it/s]\n",
      "                 Class     Images  Instances      Box(P          R      mAP50  mAP50-95): 100% 43/43 [00:19<00:00,  2.16it/s]\n",
      "                   all       1363       1817       0.72      0.467      0.519      0.314\n",
      "\n",
      "      Epoch    GPU_mem     box_om     cls_om     dfl_om     box_oo     cls_oo     dfl_oo  Instances       Size\n",
      "       5/10      3.11G      1.253      1.315       1.32      1.337      1.616      1.313         20        640: 100% 298/298 [01:24<00:00,  3.53it/s]\n",
      "                 Class     Images  Instances      Box(P          R      mAP50  mAP50-95): 100% 43/43 [00:19<00:00,  2.18it/s]\n",
      "                   all       1363       1817      0.693      0.581      0.648      0.389\n",
      "\n",
      "      Epoch    GPU_mem     box_om     cls_om     dfl_om     box_oo     cls_oo     dfl_oo  Instances       Size\n",
      "       6/10       3.1G      1.205      1.204      1.283      1.292      1.443      1.271         16        640: 100% 298/298 [01:23<00:00,  3.56it/s]\n",
      "                 Class     Images  Instances      Box(P          R      mAP50  mAP50-95): 100% 43/43 [00:20<00:00,  2.14it/s]\n",
      "                   all       1363       1817      0.653      0.598      0.625      0.381\n",
      "\n",
      "      Epoch    GPU_mem     box_om     cls_om     dfl_om     box_oo     cls_oo     dfl_oo  Instances       Size\n",
      "       7/10       3.1G      1.149      1.143      1.249      1.233      1.353      1.245         26        640: 100% 298/298 [01:23<00:00,  3.57it/s]\n",
      "                 Class     Images  Instances      Box(P          R      mAP50  mAP50-95): 100% 43/43 [00:20<00:00,  2.11it/s]\n",
      "                   all       1363       1817      0.629      0.631      0.647      0.396\n",
      "\n",
      "      Epoch    GPU_mem     box_om     cls_om     dfl_om     box_oo     cls_oo     dfl_oo  Instances       Size\n",
      "       8/10       3.1G        1.1      1.068      1.222      1.182      1.274      1.222         17        640: 100% 298/298 [01:24<00:00,  3.54it/s]\n",
      "                 Class     Images  Instances      Box(P          R      mAP50  mAP50-95): 100% 43/43 [00:19<00:00,  2.19it/s]\n",
      "                   all       1363       1817      0.734      0.634      0.678       0.43\n",
      "\n",
      "      Epoch    GPU_mem     box_om     cls_om     dfl_om     box_oo     cls_oo     dfl_oo  Instances       Size\n",
      "       9/10       3.1G      1.058     0.9943      1.199      1.143      1.182        1.2         17        640: 100% 298/298 [01:25<00:00,  3.49it/s]\n",
      "                 Class     Images  Instances      Box(P          R      mAP50  mAP50-95): 100% 43/43 [00:19<00:00,  2.25it/s]\n",
      "                   all       1363       1817      0.767       0.67      0.741      0.464\n",
      "\n",
      "      Epoch    GPU_mem     box_om     cls_om     dfl_om     box_oo     cls_oo     dfl_oo  Instances       Size\n",
      "      10/10       3.1G      1.011     0.9396      1.172      1.103      1.109      1.173         20        640: 100% 298/298 [01:23<00:00,  3.56it/s]\n",
      "                 Class     Images  Instances      Box(P          R      mAP50  mAP50-95): 100% 43/43 [00:20<00:00,  2.07it/s]\n",
      "                   all       1363       1817      0.818      0.657      0.757      0.489\n",
      "\n",
      "10 epochs completed in 0.300 hours.\n",
      "Optimizer stripped from runs/detect/train2/weights/last.pt, 5.7MB\n",
      "Optimizer stripped from runs/detect/train2/weights/best.pt, 5.7MB\n",
      "\n",
      "Validating runs/detect/train2/weights/best.pt...\n",
      "Ultralytics YOLOv8.1.34 🚀 Python-3.10.12 torch-2.3.0+cu121 CUDA:0 (Tesla T4, 15102MiB)\n",
      "YOLOv10n summary (fused): 285 layers, 2695976 parameters, 0 gradients, 8.2 GFLOPs\n",
      "                 Class     Images  Instances      Box(P          R      mAP50  mAP50-95): 100% 43/43 [00:20<00:00,  2.06it/s]\n",
      "                   all       1363       1817      0.818      0.657      0.757      0.489\n",
      "                 cocci       1363        534      0.745        0.7      0.705      0.562\n",
      "               healthy       1363        743      0.782      0.594      0.726      0.558\n",
      "                   ncd       1363         76      0.889      0.526      0.705      0.266\n",
      "                 salmo       1363        464      0.856      0.807      0.892      0.571\n",
      "Speed: 0.1ms preprocess, 2.8ms inference, 0.0ms loss, 0.1ms postprocess per image\n",
      "Results saved to \u001b[1mruns/detect/train2\u001b[0m\n",
      "💡 Learn more at https://docs.ultralytics.com/modes/train\n"
     ]
    }
   ],
   "source": [
    "!yolo task=detect mode=train epochs=10 batch=16 plots=True model=weights/yolov10n.pt data=./datasets/datasets/data.yaml"
   ]
  },
  {
   "cell_type": "code",
   "execution_count": 10,
   "id": "EhO5gGD1J2Yv",
   "metadata": {
    "executionInfo": {
     "elapsed": 327,
     "status": "ok",
     "timestamp": 1718813370950,
     "user": {
      "displayName": "Pravin Sharma",
      "userId": "04208220927024605300"
     },
     "user_tz": -60
    },
    "id": "EhO5gGD1J2Yv"
   },
   "outputs": [],
   "source": [
    "# Google Colab specific code\n",
    "# !cp -r ./runs \"../drive/MyDrive/Colab Notebooks/Pravin's Thesis\""
   ]
  },
  {
   "cell_type": "code",
   "execution_count": 7,
   "id": "mk0QmkUWQqd6",
   "metadata": {
    "id": "mk0QmkUWQqd6"
   },
   "outputs": [
    {
     "name": "stdout",
     "output_type": "stream",
     "text": [
      "Ultralytics YOLOv8.1.34 ðŸš€ Python-3.9.19 torch-2.3.1+cpu CPU (AMD Ryzen 7 5800H with Radeon Graphics)\n",
      "YOLOv10n summary (fused): 285 layers, 2695976 parameters, 0 gradients, 8.2 GFLOPs\n",
      "\n",
      "image 1/1 C:\\Users\\pravi\\OneDrive\\Desktop\\Pravin\\Study\\Masters\\Research Project\\code\\experiment_1\\yolov10\\datasets\\datasets\\farm_labelled\\valid\\images\\cocci.34.jpg: 640x288 1 cocci, 67.0ms\n",
      "Speed: 2.0ms preprocess, 67.0ms inference, 2.0ms postprocess per image at shape (1, 3, 640, 288)\n",
      "Results saved to \u001b[1mruns\\detect\\predict2\u001b[0m\n",
      "ðŸ’¡ Learn more at https://docs.ultralytics.com/modes/predict\n"
     ]
    }
   ],
   "source": [
    "!yolo task=detect mode=predict conf=0.25 save=True model=./runs/detect/train/train/weights/best.pt source=./datasets/datasets/farm_labelled/valid/images/cocci.34.jpg"
   ]
  },
  {
   "cell_type": "code",
   "execution_count": null,
   "id": "5c4b1aaa-4b68-419d-abbb-9f8a0a154a9c",
   "metadata": {},
   "outputs": [],
   "source": []
  }
 ],
 "metadata": {
  "accelerator": "GPU",
  "colab": {
   "gpuType": "T4",
   "machine_shape": "hm",
   "provenance": []
  },
  "kernelspec": {
   "display_name": "Python 3 (ipykernel)",
   "language": "python",
   "name": "python3"
  },
  "language_info": {
   "codemirror_mode": {
    "name": "ipython",
    "version": 3
   },
   "file_extension": ".py",
   "mimetype": "text/x-python",
   "name": "python",
   "nbconvert_exporter": "python",
   "pygments_lexer": "ipython3",
   "version": "3.9.19"
  },
  "widgets": {
   "application/vnd.jupyter.widget-state+json": {
    "state": {},
    "version_major": 2,
    "version_minor": 0
   }
  }
 },
 "nbformat": 4,
 "nbformat_minor": 5
}
